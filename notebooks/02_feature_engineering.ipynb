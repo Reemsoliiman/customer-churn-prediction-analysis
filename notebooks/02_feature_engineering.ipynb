{
 "cells": [
  {
   "cell_type": "markdown",
   "id": "cc01b7cf",
   "metadata": {},
   "source": [
    "STEP 3: create new features like customer tenure and average daily usage"
   ]
  },
  {
   "cell_type": "code",
   "execution_count": 1,
   "id": "365f90ac",
   "metadata": {},
   "outputs": [],
   "source": [
    "import pandas as pd\n",
    "import numpy as np\n",
    "from sklearn.preprocessing import MinMaxScaler, StandardScaler"
   ]
  },
  {
   "cell_type": "code",
   "execution_count": 2,
   "id": "ac9ab28b",
   "metadata": {},
   "outputs": [
    {
     "name": "stdout",
     "output_type": "stream",
     "text": [
      "Dataset loaded: 2666 rows, 20 columns\n"
     ]
    }
   ],
   "source": [
    "url = \"https://raw.githubusercontent.com/Reemsoliiman/customer-churn-prediction-analysis/main/data/raw/churn-bigml-80.csv\"\n",
    "df = pd.read_csv(url)\n",
    "\n",
    "print(f\"Dataset loaded: {df.shape[0]} rows, {df.shape[1]} columns\")"
   ]
  },
  {
   "cell_type": "markdown",
   "id": "063a2e78",
   "metadata": {},
   "source": [
    "1)FEATURE ENGINEERING:"
   ]
  },
  {
   "cell_type": "markdown",
   "id": "b2681416",
   "metadata": {},
   "source": [
    "A)Create New Features"
   ]
  },
  {
   "cell_type": "code",
   "execution_count": 3,
   "id": "27c133bf",
   "metadata": {},
   "outputs": [],
   "source": [
    "#Rename column\n",
    "df['Customer tenure'] = df['Account length']"
   ]
  },
  {
   "cell_type": "markdown",
   "id": "3b59b4c1",
   "metadata": {},
   "source": [
    "B)Usage Patterns"
   ]
  },
  {
   "cell_type": "code",
   "execution_count": 4,
   "id": "352e2e08",
   "metadata": {},
   "outputs": [],
   "source": [
    "#New Feature: Total usage per minutes\n",
    "df['Total usage per minutes'] = ( df['Total day minutes']+\n",
    "df['Total eve minutes']+\n",
    "df['Total intl minutes']+\n",
    "df['Total night minutes'])"
   ]
  },
  {
   "cell_type": "code",
   "execution_count": 5,
   "id": "ef648f83",
   "metadata": {},
   "outputs": [],
   "source": [
    "#Average daily usage\n",
    "df['average daily usage'] = df['Total usage per minutes'] / df['Customer tenure']"
   ]
  },
  {
   "cell_type": "code",
   "execution_count": 6,
   "id": "eef296fb",
   "metadata": {},
   "outputs": [],
   "source": [
    "#Total calls\n",
    "df['Total calls'] = (\n",
    "df['Total day calls']+\n",
    "df['Total eve calls']+\n",
    "df['Total intl calls']+\n",
    "df['Total night calls']\n",
    ")"
   ]
  },
  {
   "cell_type": "code",
   "execution_count": 7,
   "id": "acf2fdc0",
   "metadata": {},
   "outputs": [],
   "source": [
    "#Average calls per day\n",
    "df['Average calls per day'] = (\n",
    "df['Total calls']/df['Customer tenure']\n",
    ")"
   ]
  },
  {
   "cell_type": "code",
   "execution_count": 8,
   "id": "23fb4d6b",
   "metadata": {},
   "outputs": [],
   "source": [
    "#Average minutes per call\n",
    "df['Average minutes per call'] = np.where(\n",
    "    df['Total calls'] > 0,\n",
    "    df['Total usage per minutes'] / df['Total calls'],\n",
    "    0\n",
    ")"
   ]
  },
  {
   "cell_type": "markdown",
   "id": "f13abcdd",
   "metadata": {},
   "source": [
    "C)Frequency Of Interactions"
   ]
  },
  {
   "cell_type": "code",
   "execution_count": 9,
   "id": "dc2d4a4b",
   "metadata": {},
   "outputs": [],
   "source": [
    "#Complaint indicator\n",
    "df['High service calls'] = (df['Customer service calls'] > 3).astype(int)"
   ]
  },
  {
   "cell_type": "code",
   "execution_count": 10,
   "id": "35c788fc",
   "metadata": {},
   "outputs": [],
   "source": [
    "#Interaction frequency index\n",
    "df['Calls per tenure'] = df['Total calls'] / df['Customer tenure']"
   ]
  },
  {
   "cell_type": "markdown",
   "id": "db700939",
   "metadata": {},
   "source": [
    "2)FEATURE TRANSFORMATION"
   ]
  },
  {
   "cell_type": "code",
   "execution_count": 11,
   "id": "738e3d51",
   "metadata": {},
   "outputs": [],
   "source": [
    "#Log transform highly skewed features\n",
    "for col in ['Total usage per minutes', 'average daily usage', 'Average minutes per call']:\n",
    "    df[f'log_{col.replace(\" \", \"_\").lower()}'] = np.log1p(df[col])  # log1p handles zeros safely"
   ]
  },
  {
   "cell_type": "markdown",
   "id": "9dd0f715",
   "metadata": {},
   "source": [
    "3)FEATURE SCALING"
   ]
  },
  {
   "cell_type": "code",
   "execution_count": 12,
   "id": "c414c603",
   "metadata": {},
   "outputs": [],
   "source": [
    "scaler = MinMaxScaler()\n",
    "numeric_features = [\n",
    "    'Customer tenure',\n",
    "    'Total usage per minutes',\n",
    "    'average daily usage',\n",
    "    'Total calls',\n",
    "    'Average calls per day',\n",
    "    'Average minutes per call',\n",
    "    'Calls per tenure'\n",
    "]\n",
    "df_scaled = df.copy()\n",
    "df_scaled[numeric_features] = scaler.fit_transform(df[numeric_features])"
   ]
  },
  {
   "cell_type": "markdown",
   "id": "71749102",
   "metadata": {},
   "source": [
    "4)ENCODING CATEGORICAL VARIABLES"
   ]
  },
  {
   "cell_type": "code",
   "execution_count": 13,
   "id": "c7a90fc5",
   "metadata": {},
   "outputs": [],
   "source": [
    "#One-hot encode binary categorical variables\n",
    "df_encoded = pd.get_dummies(\n",
    "    df_scaled,\n",
    "    columns=['International plan', 'Voice mail plan'],\n",
    "    drop_first=True\n",
    ")"
   ]
  },
  {
   "cell_type": "code",
   "execution_count": 14,
   "id": "29ae2631",
   "metadata": {},
   "outputs": [
    {
     "name": "stdout",
     "output_type": "stream",
     "text": [
      "Final feature set shape: (2666, 31)\n"
     ]
    },
    {
     "data": {
      "text/html": [
       "<div>\n",
       "<style scoped>\n",
       "    .dataframe tbody tr th:only-of-type {\n",
       "        vertical-align: middle;\n",
       "    }\n",
       "\n",
       "    .dataframe tbody tr th {\n",
       "        vertical-align: top;\n",
       "    }\n",
       "\n",
       "    .dataframe thead th {\n",
       "        text-align: right;\n",
       "    }\n",
       "</style>\n",
       "<table border=\"1\" class=\"dataframe\">\n",
       "  <thead>\n",
       "    <tr style=\"text-align: right;\">\n",
       "      <th></th>\n",
       "      <th>State</th>\n",
       "      <th>Account length</th>\n",
       "      <th>Area code</th>\n",
       "      <th>Number vmail messages</th>\n",
       "      <th>Total day minutes</th>\n",
       "      <th>Total day calls</th>\n",
       "      <th>Total day charge</th>\n",
       "      <th>Total eve minutes</th>\n",
       "      <th>Total eve calls</th>\n",
       "      <th>Total eve charge</th>\n",
       "      <th>...</th>\n",
       "      <th>Total calls</th>\n",
       "      <th>Average calls per day</th>\n",
       "      <th>Average minutes per call</th>\n",
       "      <th>High service calls</th>\n",
       "      <th>Calls per tenure</th>\n",
       "      <th>log_total_usage_per_minutes</th>\n",
       "      <th>log_average_daily_usage</th>\n",
       "      <th>log_average_minutes_per_call</th>\n",
       "      <th>International plan_Yes</th>\n",
       "      <th>Voice mail plan_Yes</th>\n",
       "    </tr>\n",
       "  </thead>\n",
       "  <tbody>\n",
       "    <tr>\n",
       "      <th>0</th>\n",
       "      <td>KS</td>\n",
       "      <td>128</td>\n",
       "      <td>415</td>\n",
       "      <td>25</td>\n",
       "      <td>265.1</td>\n",
       "      <td>110</td>\n",
       "      <td>45.07</td>\n",
       "      <td>197.4</td>\n",
       "      <td>99</td>\n",
       "      <td>16.78</td>\n",
       "      <td>...</td>\n",
       "      <td>0.497778</td>\n",
       "      <td>0.003209</td>\n",
       "      <td>0.557426</td>\n",
       "      <td>0</td>\n",
       "      <td>0.003209</td>\n",
       "      <td>6.576748</td>\n",
       "      <td>1.887543</td>\n",
       "      <td>1.214021</td>\n",
       "      <td>False</td>\n",
       "      <td>True</td>\n",
       "    </tr>\n",
       "    <tr>\n",
       "      <th>1</th>\n",
       "      <td>OH</td>\n",
       "      <td>107</td>\n",
       "      <td>415</td>\n",
       "      <td>26</td>\n",
       "      <td>161.6</td>\n",
       "      <td>123</td>\n",
       "      <td>27.47</td>\n",
       "      <td>195.5</td>\n",
       "      <td>103</td>\n",
       "      <td>16.62</td>\n",
       "      <td>...</td>\n",
       "      <td>0.626667</td>\n",
       "      <td>0.005146</td>\n",
       "      <td>0.385456</td>\n",
       "      <td>0</td>\n",
       "      <td>0.005146</td>\n",
       "      <td>6.439670</td>\n",
       "      <td>1.923225</td>\n",
       "      <td>1.058877</td>\n",
       "      <td>False</td>\n",
       "      <td>True</td>\n",
       "    </tr>\n",
       "    <tr>\n",
       "      <th>2</th>\n",
       "      <td>NJ</td>\n",
       "      <td>137</td>\n",
       "      <td>415</td>\n",
       "      <td>0</td>\n",
       "      <td>243.4</td>\n",
       "      <td>114</td>\n",
       "      <td>41.38</td>\n",
       "      <td>121.2</td>\n",
       "      <td>110</td>\n",
       "      <td>10.30</td>\n",
       "      <td>...</td>\n",
       "      <td>0.631111</td>\n",
       "      <td>0.003376</td>\n",
       "      <td>0.291872</td>\n",
       "      <td>0</td>\n",
       "      <td>0.003376</td>\n",
       "      <td>6.292310</td>\n",
       "      <td>1.596804</td>\n",
       "      <td>0.963106</td>\n",
       "      <td>False</td>\n",
       "      <td>False</td>\n",
       "    </tr>\n",
       "    <tr>\n",
       "      <th>3</th>\n",
       "      <td>OH</td>\n",
       "      <td>84</td>\n",
       "      <td>408</td>\n",
       "      <td>0</td>\n",
       "      <td>299.4</td>\n",
       "      <td>71</td>\n",
       "      <td>50.90</td>\n",
       "      <td>61.9</td>\n",
       "      <td>88</td>\n",
       "      <td>5.26</td>\n",
       "      <td>...</td>\n",
       "      <td>0.284444</td>\n",
       "      <td>0.004969</td>\n",
       "      <td>0.503370</td>\n",
       "      <td>0</td>\n",
       "      <td>0.004969</td>\n",
       "      <td>6.338241</td>\n",
       "      <td>2.044308</td>\n",
       "      <td>1.167797</td>\n",
       "      <td>True</td>\n",
       "      <td>False</td>\n",
       "    </tr>\n",
       "    <tr>\n",
       "      <th>4</th>\n",
       "      <td>OK</td>\n",
       "      <td>75</td>\n",
       "      <td>415</td>\n",
       "      <td>0</td>\n",
       "      <td>166.7</td>\n",
       "      <td>113</td>\n",
       "      <td>28.34</td>\n",
       "      <td>148.3</td>\n",
       "      <td>122</td>\n",
       "      <td>12.61</td>\n",
       "      <td>...</td>\n",
       "      <td>0.746667</td>\n",
       "      <td>0.009579</td>\n",
       "      <td>0.223051</td>\n",
       "      <td>0</td>\n",
       "      <td>0.009579</td>\n",
       "      <td>6.240276</td>\n",
       "      <td>2.057537</td>\n",
       "      <td>0.886320</td>\n",
       "      <td>True</td>\n",
       "      <td>False</td>\n",
       "    </tr>\n",
       "  </tbody>\n",
       "</table>\n",
       "<p>5 rows × 31 columns</p>\n",
       "</div>"
      ],
      "text/plain": [
       "  State  Account length  Area code  Number vmail messages  Total day minutes  \\\n",
       "0    KS             128        415                     25              265.1   \n",
       "1    OH             107        415                     26              161.6   \n",
       "2    NJ             137        415                      0              243.4   \n",
       "3    OH              84        408                      0              299.4   \n",
       "4    OK              75        415                      0              166.7   \n",
       "\n",
       "   Total day calls  Total day charge  Total eve minutes  Total eve calls  \\\n",
       "0              110             45.07              197.4               99   \n",
       "1              123             27.47              195.5              103   \n",
       "2              114             41.38              121.2              110   \n",
       "3               71             50.90               61.9               88   \n",
       "4              113             28.34              148.3              122   \n",
       "\n",
       "   Total eve charge  ...  Total calls  Average calls per day  \\\n",
       "0             16.78  ...     0.497778               0.003209   \n",
       "1             16.62  ...     0.626667               0.005146   \n",
       "2             10.30  ...     0.631111               0.003376   \n",
       "3              5.26  ...     0.284444               0.004969   \n",
       "4             12.61  ...     0.746667               0.009579   \n",
       "\n",
       "   Average minutes per call  High service calls  Calls per tenure  \\\n",
       "0                  0.557426                   0          0.003209   \n",
       "1                  0.385456                   0          0.005146   \n",
       "2                  0.291872                   0          0.003376   \n",
       "3                  0.503370                   0          0.004969   \n",
       "4                  0.223051                   0          0.009579   \n",
       "\n",
       "   log_total_usage_per_minutes  log_average_daily_usage  \\\n",
       "0                     6.576748                 1.887543   \n",
       "1                     6.439670                 1.923225   \n",
       "2                     6.292310                 1.596804   \n",
       "3                     6.338241                 2.044308   \n",
       "4                     6.240276                 2.057537   \n",
       "\n",
       "   log_average_minutes_per_call  International plan_Yes  Voice mail plan_Yes  \n",
       "0                      1.214021                   False                 True  \n",
       "1                      1.058877                   False                 True  \n",
       "2                      0.963106                   False                False  \n",
       "3                      1.167797                    True                False  \n",
       "4                      0.886320                    True                False  \n",
       "\n",
       "[5 rows x 31 columns]"
      ]
     },
     "execution_count": 14,
     "metadata": {},
     "output_type": "execute_result"
    }
   ],
   "source": [
    "print(\"Final feature set shape:\", df_encoded.shape)\n",
    "df_encoded.head()"
   ]
  }
 ],
 "metadata": {
  "kernelspec": {
   "display_name": "Python 3",
   "language": "python",
   "name": "python3"
  },
  "language_info": {
   "codemirror_mode": {
    "name": "ipython",
    "version": 3
   },
   "file_extension": ".py",
   "mimetype": "text/x-python",
   "name": "python",
   "nbconvert_exporter": "python",
   "pygments_lexer": "ipython3",
   "version": "3.13.7"
  }
 },
 "nbformat": 4,
 "nbformat_minor": 5
}
