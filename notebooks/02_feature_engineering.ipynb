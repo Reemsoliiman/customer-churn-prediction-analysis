{
 "cells": [
  {
   "cell_type": "markdown",
   "id": "ab7a6b88",
   "metadata": {},
   "source": [
    "# =============================================================\n",
    "# MILESTONE 2: Advanced Data Analysis and Feature Engineering\n",
    "# ============================================================="
   ]
  },
  {
   "cell_type": "code",
   "execution_count": 4,
   "id": "365f90ac",
   "metadata": {},
   "outputs": [],
   "source": [
    "import pandas as pd\n",
    "import matplotlib.pyplot as plt\n",
    "import seaborn as sns\n",
    "import numpy as np\n",
    "\n",
    "from scipy import stats\n",
    "from scipy.stats import chi2_contingency\n",
    "\n",
    "\n",
    "from sklearn.preprocessing import MinMaxScaler, StandardScaler"
   ]
  },
  {
   "cell_type": "code",
   "execution_count": 2,
   "id": "b5aaec8c",
   "metadata": {},
   "outputs": [],
   "source": [
    "# Set plotting style\n",
    "sns.set(style=\"whitegrid\")\n",
    "plt.rcParams['figure.figsize'] = (10, 6)"
   ]
  },
  {
   "cell_type": "code",
   "execution_count": 3,
   "id": "ac9ab28b",
   "metadata": {},
   "outputs": [
    {
     "name": "stdout",
     "output_type": "stream",
     "text": [
      "Dataset loaded: 2666 rows, 77 columns\n"
     ]
    }
   ],
   "source": [
    "url = \"https://raw.githubusercontent.com/Reemsoliiman/customer-churn-prediction-analysis/main/data/processed/cleaned_data.csv\"\n",
    "df = pd.read_csv(url)\n",
    "\n",
    "print(f\"Dataset loaded: {df.shape[0]} rows, {df.shape[1]} columns\")\n"
   ]
  },
  {
   "cell_type": "markdown",
   "id": "f7595541",
   "metadata": {},
   "source": [
    "# ========================\n",
    "# 1. Advanced Data Analysis\n",
    "# ========================"
   ]
  },
  {
   "cell_type": "markdown",
   "id": "82dddeab",
   "metadata": {},
   "source": [
    "# -------------------------------------\n",
    "# 1.1 statistical tests\n",
    "# -------------------------------------"
   ]
  },
  {
   "cell_type": "code",
   "execution_count": 8,
   "id": "b9fd700a",
   "metadata": {},
   "outputs": [
    {
     "name": "stdout",
     "output_type": "stream",
     "text": [
      "T-test for Customer service calls: t=-10.678, p=0.000\n"
     ]
    }
   ],
   "source": [
    "# T-test for Customer service calls\n",
    "group1 = df[df['Churn'] == False]['Customer service calls']\n",
    "group2 = df[df['Churn'] == True]['Customer service calls']\n",
    "t_stat, p_value = stats.ttest_ind(group1, group2)\n",
    "print(f\"T-test for Customer service calls: t={t_stat:.3f}, p={p_value:.3f}\")"
   ]
  },
  {
   "cell_type": "code",
   "execution_count": 9,
   "id": "1ed24995",
   "metadata": {},
   "outputs": [
    {
     "name": "stdout",
     "output_type": "stream",
     "text": [
      "T-test for Total day minutes: t=-10.278, p=0.000\n"
     ]
    }
   ],
   "source": [
    "# T-test for Total day minutes\n",
    "group1 = df[df['Churn'] == False]['Total day minutes']\n",
    "group2 = df[df['Churn'] == True]['Total day minutes']\n",
    "t_stat, p_value = stats.ttest_ind(group1, group2)\n",
    "print(f\"T-test for Total day minutes: t={t_stat:.3f}, p={p_value:.3f}\")"
   ]
  },
  {
   "cell_type": "markdown",
   "id": "2c53b64b",
   "metadata": {},
   "source": [
    "# -------------------------------------\n",
    "# 1.2 identifying most relevant features\n",
    "# -------------------------------------"
   ]
  },
  {
   "cell_type": "markdown",
   "id": "5de126b8",
   "metadata": {},
   "source": [
    "# ========================\n",
    "# 2. Feature Engineering\n",
    "# ========================"
   ]
  },
  {
   "cell_type": "markdown",
   "id": "b2681416",
   "metadata": {},
   "source": [
    "# -------------------------------------\n",
    "# 2.1 Create New Features\n",
    "# -------------------------------------"
   ]
  },
  {
   "cell_type": "code",
   "execution_count": 3,
   "id": "27c133bf",
   "metadata": {},
   "outputs": [],
   "source": [
    "#Rename column\n",
    "df['Customer tenure'] = df['Account length']"
   ]
  },
  {
   "cell_type": "code",
   "execution_count": 4,
   "id": "225673e6",
   "metadata": {},
   "outputs": [
    {
     "name": "stdout",
     "output_type": "stream",
     "text": [
      "<class 'pandas.core.frame.DataFrame'>\n",
      "RangeIndex: 2666 entries, 0 to 2665\n",
      "Data columns (total 78 columns):\n",
      " #   Column                        Non-Null Count  Dtype  \n",
      "---  ------                        --------------  -----  \n",
      " 0   Account length                2666 non-null   int64  \n",
      " 1   Number vmail messages         2666 non-null   int64  \n",
      " 2   Total day minutes             2666 non-null   float64\n",
      " 3   Total day calls               2666 non-null   int64  \n",
      " 4   Total day charge              2666 non-null   float64\n",
      " 5   Total eve minutes             2666 non-null   float64\n",
      " 6   Total eve calls               2666 non-null   int64  \n",
      " 7   Total eve charge              2666 non-null   float64\n",
      " 8   Total night minutes           2666 non-null   float64\n",
      " 9   Total night calls             2666 non-null   int64  \n",
      " 10  Total night charge            2666 non-null   float64\n",
      " 11  Total intl minutes            2666 non-null   float64\n",
      " 12  Total intl calls              2666 non-null   int64  \n",
      " 13  Total intl charge             2666 non-null   float64\n",
      " 14  Customer service calls        2666 non-null   int64  \n",
      " 15  Churn                         2666 non-null   int64  \n",
      " 16  Total_Charge                  2666 non-null   float64\n",
      " 17  Total_Minutes                 2666 non-null   float64\n",
      " 18  Avg_Minute_Cost               2666 non-null   float64\n",
      " 19  Total_Calls                   2666 non-null   int64  \n",
      " 20  High_Customer_Service         2666 non-null   int64  \n",
      " 21  State_AL                      2666 non-null   bool   \n",
      " 22  State_AR                      2666 non-null   bool   \n",
      " 23  State_AZ                      2666 non-null   bool   \n",
      " 24  State_CA                      2666 non-null   bool   \n",
      " 25  State_CO                      2666 non-null   bool   \n",
      " 26  State_CT                      2666 non-null   bool   \n",
      " 27  State_DC                      2666 non-null   bool   \n",
      " 28  State_DE                      2666 non-null   bool   \n",
      " 29  State_FL                      2666 non-null   bool   \n",
      " 30  State_GA                      2666 non-null   bool   \n",
      " 31  State_HI                      2666 non-null   bool   \n",
      " 32  State_IA                      2666 non-null   bool   \n",
      " 33  State_ID                      2666 non-null   bool   \n",
      " 34  State_IL                      2666 non-null   bool   \n",
      " 35  State_IN                      2666 non-null   bool   \n",
      " 36  State_KS                      2666 non-null   bool   \n",
      " 37  State_KY                      2666 non-null   bool   \n",
      " 38  State_LA                      2666 non-null   bool   \n",
      " 39  State_MA                      2666 non-null   bool   \n",
      " 40  State_MD                      2666 non-null   bool   \n",
      " 41  State_ME                      2666 non-null   bool   \n",
      " 42  State_MI                      2666 non-null   bool   \n",
      " 43  State_MN                      2666 non-null   bool   \n",
      " 44  State_MO                      2666 non-null   bool   \n",
      " 45  State_MS                      2666 non-null   bool   \n",
      " 46  State_MT                      2666 non-null   bool   \n",
      " 47  State_NC                      2666 non-null   bool   \n",
      " 48  State_ND                      2666 non-null   bool   \n",
      " 49  State_NE                      2666 non-null   bool   \n",
      " 50  State_NH                      2666 non-null   bool   \n",
      " 51  State_NJ                      2666 non-null   bool   \n",
      " 52  State_NM                      2666 non-null   bool   \n",
      " 53  State_NV                      2666 non-null   bool   \n",
      " 54  State_NY                      2666 non-null   bool   \n",
      " 55  State_OH                      2666 non-null   bool   \n",
      " 56  State_OK                      2666 non-null   bool   \n",
      " 57  State_OR                      2666 non-null   bool   \n",
      " 58  State_PA                      2666 non-null   bool   \n",
      " 59  State_RI                      2666 non-null   bool   \n",
      " 60  State_SC                      2666 non-null   bool   \n",
      " 61  State_SD                      2666 non-null   bool   \n",
      " 62  State_TN                      2666 non-null   bool   \n",
      " 63  State_TX                      2666 non-null   bool   \n",
      " 64  State_UT                      2666 non-null   bool   \n",
      " 65  State_VA                      2666 non-null   bool   \n",
      " 66  State_VT                      2666 non-null   bool   \n",
      " 67  State_WA                      2666 non-null   bool   \n",
      " 68  State_WI                      2666 non-null   bool   \n",
      " 69  State_WV                      2666 non-null   bool   \n",
      " 70  State_WY                      2666 non-null   bool   \n",
      " 71  Area code_415                 2666 non-null   bool   \n",
      " 72  Area code_510                 2666 non-null   bool   \n",
      " 73  International plan_Yes        2666 non-null   bool   \n",
      " 74  Voice mail plan_Yes           2666 non-null   bool   \n",
      " 75  Account_Length_Binned_Medium  2666 non-null   bool   \n",
      " 76  Account_Length_Binned_Long    2666 non-null   bool   \n",
      " 77  Customer tenure               2666 non-null   int64  \n",
      "dtypes: bool(56), float64(11), int64(11)\n",
      "memory usage: 604.1 KB\n"
     ]
    }
   ],
   "source": [
    "df.info()"
   ]
  },
  {
   "cell_type": "markdown",
   "id": "3b59b4c1",
   "metadata": {},
   "source": [
    "# -------------------------------------\n",
    "# 2.1.1 Usage Patterns\n",
    "# -------------------------------------"
   ]
  },
  {
   "cell_type": "code",
   "execution_count": 5,
   "id": "ef648f83",
   "metadata": {},
   "outputs": [],
   "source": [
    "#Average daily usage\n",
    "df['average daily usage'] = df['Total_Minutes'] / df['Customer tenure']"
   ]
  },
  {
   "cell_type": "code",
   "execution_count": 6,
   "id": "acf2fdc0",
   "metadata": {},
   "outputs": [],
   "source": [
    "#Average calls per day\n",
    "df['Average calls per day'] = (\n",
    "df['Total_Calls']/df['Customer tenure']\n",
    ")"
   ]
  },
  {
   "cell_type": "code",
   "execution_count": 7,
   "id": "23fb4d6b",
   "metadata": {},
   "outputs": [],
   "source": [
    "#Average minutes per call\n",
    "df['Average minutes per call'] = np.where(\n",
    "    df['Total_Calls'] > 0,\n",
    "    df['Total_Minutes'] / df['Total_Calls'],\n",
    "    0\n",
    ")"
   ]
  },
  {
   "cell_type": "markdown",
   "id": "f13abcdd",
   "metadata": {},
   "source": [
    "# -------------------------------------\n",
    "# 2.1.2 Frequency Of Interactions\n",
    "# -------------------------------------"
   ]
  },
  {
   "cell_type": "code",
   "execution_count": 8,
   "id": "dc2d4a4b",
   "metadata": {},
   "outputs": [],
   "source": [
    "#Complaint indicator\n",
    "df['High service calls'] = (df['Customer service calls'] > 3).astype(int)"
   ]
  },
  {
   "cell_type": "code",
   "execution_count": 9,
   "id": "35c788fc",
   "metadata": {},
   "outputs": [],
   "source": [
    "#Interaction frequency index\n",
    "df['Calls per tenure'] = df['Total_Calls'] / df['Customer tenure']"
   ]
  },
  {
   "cell_type": "markdown",
   "id": "db700939",
   "metadata": {},
   "source": [
    "# -------------------------------------\n",
    "# 2.2 FEATURE TRANSFORMATION\n",
    "# -------------------------------------"
   ]
  },
  {
   "cell_type": "code",
   "execution_count": 10,
   "id": "738e3d51",
   "metadata": {},
   "outputs": [],
   "source": [
    "#Log transform highly skewed features\n",
    "for col in ['Total_Minutes', 'average daily usage', 'Average minutes per call']:\n",
    "    df[f'log_{col.replace(\" \", \"_\").lower()}'] = np.log1p(df[col])  # log1p handles zeros safely"
   ]
  },
  {
   "cell_type": "markdown",
   "id": "9dd0f715",
   "metadata": {},
   "source": [
    "# -------------------------------------\n",
    "# 2.3 FEATURE SCALING\n",
    "# -------------------------------------"
   ]
  },
  {
   "cell_type": "code",
   "execution_count": 11,
   "id": "c414c603",
   "metadata": {},
   "outputs": [],
   "source": [
    "scaler = MinMaxScaler()\n",
    "numeric_features = [\n",
    "    'Customer tenure',\n",
    "    'Total_Minutes',\n",
    "    'average daily usage',\n",
    "    'Total_Calls',\n",
    "    'Average calls per day',\n",
    "    'Average minutes per call',\n",
    "    'Calls per tenure'\n",
    "]\n",
    "df_scaled = df.copy()\n",
    "df_scaled[numeric_features] = scaler.fit_transform(df[numeric_features])"
   ]
  },
  {
   "cell_type": "markdown",
   "id": "71749102",
   "metadata": {},
   "source": [
    "# -------------------------------------\n",
    "# 2.4 ENCODING CATEGORICAL VARIABLES\n",
    "# -------------------------------------"
   ]
  },
  {
   "cell_type": "code",
   "execution_count": 12,
   "id": "c7a90fc5",
   "metadata": {},
   "outputs": [],
   "source": [
    "#One-hot encode binary categorical variables(already encoded in milestone 1)\n",
    "df_encoded =df_scaled"
   ]
  },
  {
   "cell_type": "code",
   "execution_count": 13,
   "id": "c4e2819b",
   "metadata": {},
   "outputs": [
    {
     "name": "stdout",
     "output_type": "stream",
     "text": [
      "Index(['Account length', 'Number vmail messages', 'Total day minutes',\n",
      "       'Total day calls', 'Total day charge', 'Total eve minutes',\n",
      "       'Total eve calls', 'Total eve charge', 'Total night minutes',\n",
      "       'Total night calls', 'Total night charge', 'Total intl minutes',\n",
      "       'Total intl calls', 'Total intl charge', 'Customer service calls',\n",
      "       'Churn', 'Total_Charge', 'Total_Minutes', 'Avg_Minute_Cost',\n",
      "       'Total_Calls', 'High_Customer_Service', 'State_AL', 'State_AR',\n",
      "       'State_AZ', 'State_CA', 'State_CO', 'State_CT', 'State_DC', 'State_DE',\n",
      "       'State_FL', 'State_GA', 'State_HI', 'State_IA', 'State_ID', 'State_IL',\n",
      "       'State_IN', 'State_KS', 'State_KY', 'State_LA', 'State_MA', 'State_MD',\n",
      "       'State_ME', 'State_MI', 'State_MN', 'State_MO', 'State_MS', 'State_MT',\n",
      "       'State_NC', 'State_ND', 'State_NE', 'State_NH', 'State_NJ', 'State_NM',\n",
      "       'State_NV', 'State_NY', 'State_OH', 'State_OK', 'State_OR', 'State_PA',\n",
      "       'State_RI', 'State_SC', 'State_SD', 'State_TN', 'State_TX', 'State_UT',\n",
      "       'State_VA', 'State_VT', 'State_WA', 'State_WI', 'State_WV', 'State_WY',\n",
      "       'Area code_415', 'Area code_510', 'International plan_Yes',\n",
      "       'Voice mail plan_Yes', 'Account_Length_Binned_Medium',\n",
      "       'Account_Length_Binned_Long', 'Customer tenure', 'average daily usage',\n",
      "       'Average calls per day', 'Average minutes per call',\n",
      "       'High service calls', 'Calls per tenure', 'log_total_minutes',\n",
      "       'log_average_daily_usage', 'log_average_minutes_per_call'],\n",
      "      dtype='object')\n"
     ]
    }
   ],
   "source": [
    "print(df_scaled.columns)"
   ]
  },
  {
   "cell_type": "code",
   "execution_count": 14,
   "id": "29ae2631",
   "metadata": {},
   "outputs": [
    {
     "name": "stdout",
     "output_type": "stream",
     "text": [
      "Final feature set shape: (2666, 86)\n"
     ]
    },
    {
     "data": {
      "text/html": [
       "<div>\n",
       "<style scoped>\n",
       "    .dataframe tbody tr th:only-of-type {\n",
       "        vertical-align: middle;\n",
       "    }\n",
       "\n",
       "    .dataframe tbody tr th {\n",
       "        vertical-align: top;\n",
       "    }\n",
       "\n",
       "    .dataframe thead th {\n",
       "        text-align: right;\n",
       "    }\n",
       "</style>\n",
       "<table border=\"1\" class=\"dataframe\">\n",
       "  <thead>\n",
       "    <tr style=\"text-align: right;\">\n",
       "      <th></th>\n",
       "      <th>Account length</th>\n",
       "      <th>Number vmail messages</th>\n",
       "      <th>Total day minutes</th>\n",
       "      <th>Total day calls</th>\n",
       "      <th>Total day charge</th>\n",
       "      <th>Total eve minutes</th>\n",
       "      <th>Total eve calls</th>\n",
       "      <th>Total eve charge</th>\n",
       "      <th>Total night minutes</th>\n",
       "      <th>Total night calls</th>\n",
       "      <th>...</th>\n",
       "      <th>Account_Length_Binned_Long</th>\n",
       "      <th>Customer tenure</th>\n",
       "      <th>average daily usage</th>\n",
       "      <th>Average calls per day</th>\n",
       "      <th>Average minutes per call</th>\n",
       "      <th>High service calls</th>\n",
       "      <th>Calls per tenure</th>\n",
       "      <th>log_total_minutes</th>\n",
       "      <th>log_average_daily_usage</th>\n",
       "      <th>log_average_minutes_per_call</th>\n",
       "    </tr>\n",
       "  </thead>\n",
       "  <tbody>\n",
       "    <tr>\n",
       "      <th>0</th>\n",
       "      <td>128</td>\n",
       "      <td>25</td>\n",
       "      <td>265.1</td>\n",
       "      <td>110</td>\n",
       "      <td>45.07</td>\n",
       "      <td>197.4</td>\n",
       "      <td>99</td>\n",
       "      <td>16.78</td>\n",
       "      <td>244.7</td>\n",
       "      <td>91</td>\n",
       "      <td>...</td>\n",
       "      <td>True</td>\n",
       "      <td>0.613527</td>\n",
       "      <td>0.005248</td>\n",
       "      <td>0.002942</td>\n",
       "      <td>0.575932</td>\n",
       "      <td>0</td>\n",
       "      <td>0.002942</td>\n",
       "      <td>6.576748</td>\n",
       "      <td>1.887543</td>\n",
       "      <td>1.214021</td>\n",
       "    </tr>\n",
       "    <tr>\n",
       "      <th>1</th>\n",
       "      <td>107</td>\n",
       "      <td>26</td>\n",
       "      <td>161.6</td>\n",
       "      <td>123</td>\n",
       "      <td>27.47</td>\n",
       "      <td>195.5</td>\n",
       "      <td>103</td>\n",
       "      <td>16.62</td>\n",
       "      <td>254.4</td>\n",
       "      <td>103</td>\n",
       "      <td>...</td>\n",
       "      <td>False</td>\n",
       "      <td>0.512077</td>\n",
       "      <td>0.005586</td>\n",
       "      <td>0.004879</td>\n",
       "      <td>0.398252</td>\n",
       "      <td>0</td>\n",
       "      <td>0.004879</td>\n",
       "      <td>6.439670</td>\n",
       "      <td>1.923225</td>\n",
       "      <td>1.058877</td>\n",
       "    </tr>\n",
       "    <tr>\n",
       "      <th>2</th>\n",
       "      <td>137</td>\n",
       "      <td>0</td>\n",
       "      <td>243.4</td>\n",
       "      <td>114</td>\n",
       "      <td>41.38</td>\n",
       "      <td>121.2</td>\n",
       "      <td>110</td>\n",
       "      <td>10.30</td>\n",
       "      <td>162.6</td>\n",
       "      <td>104</td>\n",
       "      <td>...</td>\n",
       "      <td>True</td>\n",
       "      <td>0.657005</td>\n",
       "      <td>0.002899</td>\n",
       "      <td>0.003109</td>\n",
       "      <td>0.301561</td>\n",
       "      <td>0</td>\n",
       "      <td>0.003109</td>\n",
       "      <td>6.292310</td>\n",
       "      <td>1.596804</td>\n",
       "      <td>0.963106</td>\n",
       "    </tr>\n",
       "    <tr>\n",
       "      <th>3</th>\n",
       "      <td>84</td>\n",
       "      <td>0</td>\n",
       "      <td>299.4</td>\n",
       "      <td>71</td>\n",
       "      <td>50.90</td>\n",
       "      <td>61.9</td>\n",
       "      <td>88</td>\n",
       "      <td>5.26</td>\n",
       "      <td>196.9</td>\n",
       "      <td>89</td>\n",
       "      <td>...</td>\n",
       "      <td>False</td>\n",
       "      <td>0.400966</td>\n",
       "      <td>0.006828</td>\n",
       "      <td>0.004702</td>\n",
       "      <td>0.520081</td>\n",
       "      <td>0</td>\n",
       "      <td>0.004702</td>\n",
       "      <td>6.338241</td>\n",
       "      <td>2.044308</td>\n",
       "      <td>1.167797</td>\n",
       "    </tr>\n",
       "    <tr>\n",
       "      <th>4</th>\n",
       "      <td>75</td>\n",
       "      <td>0</td>\n",
       "      <td>166.7</td>\n",
       "      <td>113</td>\n",
       "      <td>28.34</td>\n",
       "      <td>148.3</td>\n",
       "      <td>122</td>\n",
       "      <td>12.61</td>\n",
       "      <td>186.9</td>\n",
       "      <td>121</td>\n",
       "      <td>...</td>\n",
       "      <td>False</td>\n",
       "      <td>0.357488</td>\n",
       "      <td>0.006973</td>\n",
       "      <td>0.009313</td>\n",
       "      <td>0.230456</td>\n",
       "      <td>0</td>\n",
       "      <td>0.009313</td>\n",
       "      <td>6.240276</td>\n",
       "      <td>2.057537</td>\n",
       "      <td>0.886320</td>\n",
       "    </tr>\n",
       "  </tbody>\n",
       "</table>\n",
       "<p>5 rows × 86 columns</p>\n",
       "</div>"
      ],
      "text/plain": [
       "   Account length  Number vmail messages  Total day minutes  Total day calls  \\\n",
       "0             128                     25              265.1              110   \n",
       "1             107                     26              161.6              123   \n",
       "2             137                      0              243.4              114   \n",
       "3              84                      0              299.4               71   \n",
       "4              75                      0              166.7              113   \n",
       "\n",
       "   Total day charge  Total eve minutes  Total eve calls  Total eve charge  \\\n",
       "0             45.07              197.4               99             16.78   \n",
       "1             27.47              195.5              103             16.62   \n",
       "2             41.38              121.2              110             10.30   \n",
       "3             50.90               61.9               88              5.26   \n",
       "4             28.34              148.3              122             12.61   \n",
       "\n",
       "   Total night minutes  Total night calls  ...  Account_Length_Binned_Long  \\\n",
       "0                244.7                 91  ...                        True   \n",
       "1                254.4                103  ...                       False   \n",
       "2                162.6                104  ...                        True   \n",
       "3                196.9                 89  ...                       False   \n",
       "4                186.9                121  ...                       False   \n",
       "\n",
       "   Customer tenure  average daily usage  Average calls per day  \\\n",
       "0         0.613527             0.005248               0.002942   \n",
       "1         0.512077             0.005586               0.004879   \n",
       "2         0.657005             0.002899               0.003109   \n",
       "3         0.400966             0.006828               0.004702   \n",
       "4         0.357488             0.006973               0.009313   \n",
       "\n",
       "   Average minutes per call  High service calls  Calls per tenure  \\\n",
       "0                  0.575932                   0          0.002942   \n",
       "1                  0.398252                   0          0.004879   \n",
       "2                  0.301561                   0          0.003109   \n",
       "3                  0.520081                   0          0.004702   \n",
       "4                  0.230456                   0          0.009313   \n",
       "\n",
       "   log_total_minutes  log_average_daily_usage  log_average_minutes_per_call  \n",
       "0           6.576748                 1.887543                      1.214021  \n",
       "1           6.439670                 1.923225                      1.058877  \n",
       "2           6.292310                 1.596804                      0.963106  \n",
       "3           6.338241                 2.044308                      1.167797  \n",
       "4           6.240276                 2.057537                      0.886320  \n",
       "\n",
       "[5 rows x 86 columns]"
      ]
     },
     "execution_count": 14,
     "metadata": {},
     "output_type": "execute_result"
    }
   ],
   "source": [
    "print(\"Final feature set shape:\", df_encoded.shape)\n",
    "df_encoded.head()"
   ]
  }
 ],
 "metadata": {
  "kernelspec": {
   "display_name": "base",
   "language": "python",
   "name": "python3"
  },
  "language_info": {
   "codemirror_mode": {
    "name": "ipython",
    "version": 3
   },
   "file_extension": ".py",
   "mimetype": "text/x-python",
   "name": "python",
   "nbconvert_exporter": "python",
   "pygments_lexer": "ipython3",
   "version": "3.13.5"
  }
 },
 "nbformat": 4,
 "nbformat_minor": 5
}
