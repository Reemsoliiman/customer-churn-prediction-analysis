{
 "cells": [
  {
   "cell_type": "markdown",
   "id": "ec5b0fbf",
   "metadata": {},
   "source": [
    "# =============================================================\n",
    "# MILESTONE 3: Machine Learning Model Development and Optimization\n",
    "# ============================================================="
   ]
  },
  {
   "cell_type": "code",
   "execution_count": 42,
   "id": "cf793c73",
   "metadata": {},
   "outputs": [
    {
     "name": "stdout",
     "output_type": "stream",
     "text": [
      "Requirement already satisfied: xgboost in c:\\users\\dell\\anaconda3\\lib\\site-packages (3.1.0)\n",
      "Requirement already satisfied: numpy in c:\\users\\dell\\anaconda3\\lib\\site-packages (from xgboost) (1.26.4)\n",
      "Requirement already satisfied: scipy in c:\\users\\dell\\anaconda3\\lib\\site-packages (from xgboost) (1.13.1)\n",
      "Note: you may need to restart the kernel to use updated packages.\n"
     ]
    }
   ],
   "source": [
    "pip install xgboost"
   ]
  },
  {
   "cell_type": "code",
   "execution_count": 43,
   "id": "930410f0",
   "metadata": {},
   "outputs": [],
   "source": [
    "from sklearn.model_selection import train_test_split,RandomizedSearchCV, GridSearchCV, StratifiedKFold\n",
    "from imblearn.over_sampling import SMOTE\n",
    "import numpy as np\n",
    "import pandas as pd\n",
    "from sklearn.linear_model import LogisticRegression\n",
    "from sklearn.tree import DecisionTreeClassifier\n",
    "from sklearn.ensemble import RandomForestClassifier\n",
    "from xgboost import XGBClassifier\n",
    "from sklearn.metrics import accuracy_score, precision_score, recall_score, f1_score, roc_auc_score, confusion_matrix, classification_report\n",
    "import matplotlib.pyplot as plt\n",
    "import seaborn as sns\n",
    "import scipy.stats as stats\n",
    "from sklearn.experimental import enable_halving_search_cv  \n",
    "from sklearn.model_selection import HalvingRandomSearchCV\n"
   ]
  },
  {
   "cell_type": "code",
   "execution_count": 44,
   "id": "b3a00f4a",
   "metadata": {},
   "outputs": [
    {
     "data": {
      "text/plain": [
       "(3333, 86)"
      ]
     },
     "execution_count": 44,
     "metadata": {},
     "output_type": "execute_result"
    }
   ],
   "source": [
    "url = \"https://raw.githubusercontent.com/Reemsoliiman/customer-churn-prediction-analysis/main/data/processed/cleaned_data.csv\"\n",
    "df = pd.read_csv(url)\n",
    "\n",
    "df.shape"
   ]
  },
  {
   "cell_type": "markdown",
   "id": "2fed0c5e",
   "metadata": {},
   "source": [
    "# Features (X) and Target (y)"
   ]
  },
  {
   "cell_type": "code",
   "execution_count": 45,
   "id": "bac3ee2f",
   "metadata": {},
   "outputs": [],
   "source": [
    "X = df.drop(\"Churn\", axis=1)\n",
    "y = df[\"Churn\"]"
   ]
  },
  {
   "cell_type": "markdown",
   "id": "b0cbd4a0",
   "metadata": {},
   "source": [
    "# Train/test split (80/20) with stratification"
   ]
  },
  {
   "cell_type": "code",
   "execution_count": 46,
   "id": "29194c7b",
   "metadata": {},
   "outputs": [
    {
     "name": "stdout",
     "output_type": "stream",
     "text": [
      "Before SMOTE: [2280  386]\n"
     ]
    }
   ],
   "source": [
    "X_train, X_test, y_train, y_test = train_test_split(\n",
    "    X, y, test_size=0.2, random_state=42, stratify=y\n",
    ")\n",
    "\n",
    "print(\"Before SMOTE:\", np.bincount(y_train))"
   ]
  },
  {
   "cell_type": "markdown",
   "id": "113ade79",
   "metadata": {},
   "source": [
    "\n",
    "# Apply SMOTE only to training set"
   ]
  },
  {
   "cell_type": "code",
   "execution_count": 47,
   "id": "d011e18c",
   "metadata": {},
   "outputs": [
    {
     "name": "stdout",
     "output_type": "stream",
     "text": [
      "After SMOTE: [2280 2280]\n"
     ]
    }
   ],
   "source": [
    "smote = SMOTE(random_state=42)\n",
    "X_train_resampled, y_train_resampled = smote.fit_resample(X_train, y_train)\n",
    "\n",
    "print(\"After SMOTE:\", np.bincount(y_train_resampled))"
   ]
  },
  {
   "cell_type": "markdown",
   "id": "be163b0c",
   "metadata": {},
   "source": [
    "# =============================================================\n",
    "# LogisticRegression Model\n",
    "# ============================================================="
   ]
  },
  {
   "cell_type": "code",
   "execution_count": 48,
   "id": "749d8f5b",
   "metadata": {},
   "outputs": [
    {
     "name": "stdout",
     "output_type": "stream",
     "text": [
      "Logistic Regression Evaluation:\n",
      "Accuracy : 0.8605697151424287\n",
      "Precision: 0.5303030303030303\n",
      "Recall   : 0.36082474226804123\n",
      "F1-score : 0.4294478527607362\n",
      "ROC-AUC  : 0.87724724181588\n",
      "\n",
      " Classification Report:\n",
      "               precision    recall  f1-score   support\n",
      "\n",
      "           0       0.90      0.95      0.92       570\n",
      "           1       0.53      0.36      0.43        97\n",
      "\n",
      "    accuracy                           0.86       667\n",
      "   macro avg       0.71      0.65      0.68       667\n",
      "weighted avg       0.84      0.86      0.85       667\n",
      "\n",
      "\n",
      "Confusion Matrix:\n",
      " [[539  31]\n",
      " [ 62  35]]\n"
     ]
    },
    {
     "data": {
      "image/png": "[encoded data removed]",
      "text/plain": [
       "<Figure size 600x400 with 2 Axes>"
      ]
     },
     "metadata": {},
     "output_type": "display_data"
    }
   ],
   "source": [
    "log_reg = LogisticRegression(max_iter=1000, solver=\"liblinear\")\n",
    "log_reg.fit(X_train_resampled, y_train_resampled)\n",
    "\n",
    "y_pred = log_reg.predict(X_test)\n",
    "y_pred_prob = log_reg.predict_proba(X_test)[:, 1]\n",
    "\n",
    "# Evaluate Logistic Regression\n",
    "print(\"Logistic Regression Evaluation:\")\n",
    "print(\"Accuracy :\", accuracy_score(y_test, y_pred))\n",
    "print(\"Precision:\", precision_score(y_test, y_pred))\n",
    "print(\"Recall   :\", recall_score(y_test, y_pred))\n",
    "print(\"F1-score :\", f1_score(y_test, y_pred))\n",
    "print(\"ROC-AUC  :\", roc_auc_score(y_test, y_pred_prob))\n",
    "print(\"\\n Classification Report:\\n\", classification_report(y_test, y_pred))\n",
    "print(\"\\nConfusion Matrix:\\n\", confusion_matrix(y_test, y_pred))\n",
    "\n",
    "# Plot Confusion Matrix for Logistic Regression\n",
    "cm = confusion_matrix(y_test, y_pred)\n",
    "plt.figure(figsize=(6, 4))\n",
    "sns.heatmap(cm, annot=True, fmt=\"d\", cmap=\"Blues\")\n",
    "plt.title(\"Confusion Matrix - Logistic Regression\")\n",
    "plt.xlabel(\"Predicted Labels\")\n",
    "plt.ylabel(\"True Labels\")\n",
    "plt.show()"
   ]
  },
  {
   "cell_type": "markdown",
   "id": "b73d531a",
   "metadata": {},
   "source": [
    "# =============================================================\n",
    "# DECISION TREE MODEL\n",
    "# ============================================================="
   ]
  },
  {
   "cell_type": "code",
   "execution_count": 49,
   "id": "e1d868cf",
   "metadata": {},
   "outputs": [
    {
     "name": "stdout",
     "output_type": "stream",
     "text": [
      "Decision Tree Evaluation:\n",
      "Accuracy : 0.9370314842578711\n",
      "Precision: 0.7391304347826086\n",
      "Recall   : 0.8762886597938144\n",
      "F1-score : 0.8018867924528302\n",
      "ROC-AUC  : 0.9118285404232231\n"
     ]
    }
   ],
   "source": [
    "dt_model = DecisionTreeClassifier(random_state=42)\n",
    "dt_model.fit(X_train_resampled, y_train_resampled)\n",
    "\n",
    "y_pred_dt = dt_model.predict(X_test)\n",
    "y_prob_dt = dt_model.predict_proba(X_test)[:, 1]\n",
    "\n",
    "print(\"Decision Tree Evaluation:\")\n",
    "print(\"Accuracy :\", accuracy_score(y_test, y_pred_dt))\n",
    "print(\"Precision:\", precision_score(y_test, y_pred_dt))\n",
    "print(\"Recall   :\", recall_score(y_test, y_pred_dt))\n",
    "print(\"F1-score :\", f1_score(y_test, y_pred_dt))\n",
    "print(\"ROC-AUC  :\", roc_auc_score(y_test, y_prob_dt))"
   ]
  },
  {
   "cell_type": "markdown",
   "id": "d4eb5d1e",
   "metadata": {},
   "source": [
    "# =============================================================\n",
    "# RANDOM FOREST MODEL\n",
    "# ============================================================="
   ]
  },
  {
   "cell_type": "code",
   "execution_count": 50,
   "id": "23d4f85d",
   "metadata": {},
   "outputs": [
    {
     "name": "stdout",
     "output_type": "stream",
     "text": [
      "Random Forest Evaluation:\n",
      "Accuracy : 0.95952023988006\n",
      "Precision: 0.9166666666666666\n",
      "Recall   : 0.7938144329896907\n",
      "F1-score : 0.850828729281768\n",
      "ROC-AUC  : 0.9365888949177067\n"
     ]
    }
   ],
   "source": [
    "rf_model = RandomForestClassifier(n_estimators=100, random_state=42)\n",
    "rf_model.fit(X_train_resampled, y_train_resampled)\n",
    "\n",
    "y_pred_rf = rf_model.predict(X_test)\n",
    "y_prob_rf = rf_model.predict_proba(X_test)[:, 1]\n",
    "\n",
    "print(\"Random Forest Evaluation:\")\n",
    "print(\"Accuracy :\", accuracy_score(y_test, y_pred_rf))\n",
    "print(\"Precision:\", precision_score(y_test, y_pred_rf))\n",
    "print(\"Recall   :\", recall_score(y_test, y_pred_rf))\n",
    "print(\"F1-score :\", f1_score(y_test, y_pred_rf))\n",
    "print(\"ROC-AUC  :\", roc_auc_score(y_test, y_prob_rf))"
   ]
  },
  {
   "cell_type": "markdown",
   "id": "8f345335",
   "metadata": {},
   "source": [
    "# =============================================================\n",
    "# XGBOOST MODEL\n",
    "# ============================================================="
   ]
  },
  {
   "cell_type": "code",
   "execution_count": 51,
   "id": "0c2310f9",
   "metadata": {},
   "outputs": [
    {
     "name": "stderr",
     "output_type": "stream",
     "text": [
      "c:\\Users\\dell\\anaconda3\\Lib\\site-packages\\xgboost\\training.py:199: UserWarning: [00:46:34] WARNING: C:\\actions-runner\\_work\\xgboost\\xgboost\\src\\learner.cc:790: \n",
      "Parameters: { \"use_label_encoder\" } are not used.\n",
      "\n",
      "  bst.update(dtrain, iteration=i, fobj=obj)\n"
     ]
    },
    {
     "name": "stdout",
     "output_type": "stream",
     "text": [
      "XGBoost Evaluation:\n",
      "Accuracy : 0.9775112443778111\n",
      "Precision: 0.9555555555555556\n",
      "Recall   : 0.8865979381443299\n",
      "F1-score : 0.9197860962566845\n",
      "ROC-AUC  : 0.9344908663411106\n"
     ]
    }
   ],
   "source": [
    "xgb_model = XGBClassifier(eval_metric='logloss', use_label_encoder=False, random_state=42)\n",
    "xgb_model.fit(X_train_resampled, y_train_resampled)\n",
    "\n",
    "y_pred_xgb = xgb_model.predict(X_test)\n",
    "y_prob_xgb = xgb_model.predict_proba(X_test)[:, 1]\n",
    "\n",
    "print(\"XGBoost Evaluation:\")\n",
    "print(\"Accuracy :\", accuracy_score(y_test, y_pred_xgb))\n",
    "print(\"Precision:\", precision_score(y_test, y_pred_xgb))\n",
    "print(\"Recall   :\", recall_score(y_test, y_pred_xgb))\n",
    "print(\"F1-score :\", f1_score(y_test, y_pred_xgb))\n",
    "print(\"ROC-AUC  :\", roc_auc_score(y_test, y_prob_xgb))"
   ]
  },
  {
   "cell_type": "markdown",
   "id": "a75b13f3",
   "metadata": {},
   "source": [
    "# =============================================================\n",
    "# Hyperparameter Tuning\n",
    "# ============================================================="
   ]
  },
  {
   "cell_type": "code",
   "execution_count": 53,
   "id": "c21f3083",
   "metadata": {},
   "outputs": [
    {
     "name": "stdout",
     "output_type": "stream",
     "text": [
      "Fitting 3 folds for each of 10 candidates, totalling 30 fits\n",
      "Random Forest best params: {'max_depth': 20, 'max_features': 'log2', 'min_samples_leaf': 1, 'min_samples_split': 3, 'n_estimators': 200}\n",
      "Random Forest CV ROC-AUC: 0.9938631117266851\n",
      "Random Forest (tuned) ROC-AUC: 0.9311629589437512\n",
      "n_iterations: 3\n",
      "n_required_iterations: 3\n",
      "n_possible_iterations: 5\n",
      "min_resources_: 1\n",
      "max_resources_: 100\n",
      "aggressive_elimination: False\n",
      "factor: 3\n",
      "----------\n",
      "iter: 0\n",
      "n_candidates: 12\n",
      "n_resources: 1\n",
      "Fitting 3 folds for each of 12 candidates, totalling 36 fits\n",
      "----------\n",
      "iter: 1\n",
      "n_candidates: 4\n",
      "n_resources: 3\n",
      "Fitting 3 folds for each of 4 candidates, totalling 12 fits\n",
      "----------\n",
      "iter: 2\n",
      "n_candidates: 2\n",
      "n_resources: 9\n",
      "Fitting 3 folds for each of 2 candidates, totalling 6 fits\n"
     ]
    },
    {
     "name": "stderr",
     "output_type": "stream",
     "text": [
      "c:\\Users\\dell\\anaconda3\\Lib\\site-packages\\xgboost\\training.py:199: UserWarning: [00:51:06] WARNING: C:\\actions-runner\\_work\\xgboost\\xgboost\\src\\learner.cc:790: \n",
      "Parameters: { \"use_label_encoder\" } are not used.\n",
      "\n",
      "  bst.update(dtrain, iteration=i, fobj=obj)\n"
     ]
    },
    {
     "name": "stdout",
     "output_type": "stream",
     "text": [
      "XGBoost best params: {'subsample': 0.8, 'max_depth': 7, 'learning_rate': 0.05, 'colsample_bytree': 1.0, 'n_estimators': 9}\n",
      "XGBoost CV ROC-AUC: 0.9801122460757156\n",
      "XGBoost (tuned) ROC-AUC: 0.9370681859287393\n",
      "Fitting 3 folds for each of 27 candidates, totalling 81 fits\n",
      "Decision Tree best params: {'max_depth': 10, 'min_samples_leaf': 4, 'min_samples_split': 10}\n",
      "Decision Tree CV ROC-AUC: 0.9742347645429364\n",
      "Decision Tree (tuned) ROC-AUC: 0.9415536263338758\n",
      "Fitting 3 folds for each of 4 candidates, totalling 12 fits\n",
      "Logistic Regression best params: {'C': 10, 'penalty': 'l2', 'solver': 'liblinear'}\n",
      "Logistic Regression CV ROC-AUC: 0.9738250230840259\n",
      "Logistic Regression (tuned) ROC-AUC: 0.8892023874118286\n",
      "\\nTuned Model Performance (Test ROC-AUC):\n",
      "                         Model  ROC-AUC\n",
      "2        Decision Tree (tuned)    0.942\n",
      "1              XGBoost (tuned)    0.937\n",
      "0        Random Forest (tuned)    0.931\n",
      "3  Logistic Regression (tuned)    0.889\n"
     ]
    }
   ],
   "source": [
    "cv = StratifiedKFold(n_splits=3, shuffle=True, random_state=42)\n",
    "scoring = \"roc_auc\"\n",
    "\n",
    "rf_param_dist = {\n",
    "    \"n_estimators\": [100, 200],\n",
    "    \"max_depth\": [None, 10, 20],\n",
    "   \"min_samples_split\": stats.randint(2, 11),\n",
    "    \"min_samples_leaf\": stats.randint(1, 5),\n",
    "    \"max_features\": [\"sqrt\", \"log2\"]\n",
    "}\n",
    "\n",
    "rf_search = RandomizedSearchCV(\n",
    "    estimator=RandomForestClassifier(random_state=42),\n",
    "    param_distributions=rf_param_dist,\n",
    "    n_iter=10,\n",
    "    scoring=scoring,\n",
    "    cv=cv,\n",
    "    n_jobs=-1,\n",
    "    verbose=2,\n",
    "    random_state=42,\n",
    "    return_train_score=False\n",
    ")\n",
    "rf_search.fit(X_train_resampled, y_train_resampled)\n",
    "best_rf = rf_search.best_estimator_\n",
    "print(\"Random Forest best params:\", rf_search.best_params_)\n",
    "print(\"Random Forest CV ROC-AUC:\", rf_search.best_score_)\n",
    "\n",
    "y_prob_rf_tuned = best_rf.predict_proba(X_test)[:, 1]\n",
    "y_pred_rf_tuned = best_rf.predict(X_test)\n",
    "print(\"Random Forest (tuned) ROC-AUC:\", roc_auc_score(y_test, y_prob_rf_tuned))\n",
    "\n",
    "\n",
    "\n",
    "xgb_param_dist = {\n",
    "    \n",
    "    \"max_depth\": [3, 5, 7],\n",
    "    \"learning_rate\": [0.01, 0.05, 0.1],\n",
    "    \"subsample\": [0.6, 0.8, 1.0],\n",
    "    \"colsample_bytree\": [0.6, 0.8, 1.0]\n",
    "}\n",
    "\n",
    "\n",
    "xgb_base = XGBClassifier(\n",
    "    eval_metric=\"logloss\",\n",
    "    use_label_encoder=False,\n",
    "    random_state=42,\n",
    "    n_jobs=1,        \n",
    "    n_estimators=50  \n",
    ")\n",
    "\n",
    "xgb_search = HalvingRandomSearchCV(\n",
    "    estimator=xgb_base,\n",
    "    param_distributions=xgb_param_dist,\n",
    "    n_candidates=12,         \n",
    "    factor=3,\n",
    "    resource=\"n_estimators\", \n",
    "    max_resources=100,      \n",
    "    scoring=scoring,\n",
    "    cv=cv,\n",
    "    n_jobs=-1,\n",
    "    verbose=2,\n",
    "    random_state=42,\n",
    "    return_train_score=False,\n",
    ")\n",
    "\n",
    "try:\n",
    "    xgb_search.fit(X_train_resampled, y_train_resampled)\n",
    "    best_xgb = xgb_search.best_estimator_\n",
    "    print(\"XGBoost best params:\", xgb_search.best_params_)\n",
    "    print(\"XGBoost CV ROC-AUC:\", xgb_search.best_score_)\n",
    "except KeyboardInterrupt:\n",
    "    print(\"XGBoost search interrupted. Using best found so far (if any).\")\n",
    "    best_xgb = xgb_search.best_estimator_ if hasattr(xgb_search, \"best_estimator_\") else xgb_model\n",
    "\n",
    "y_prob_xgb_tuned = best_xgb.predict_proba(X_test)[:, 1]\n",
    "y_pred_xgb_tuned = best_xgb.predict(X_test)\n",
    "print(\"XGBoost (tuned) ROC-AUC:\", roc_auc_score(y_test, y_prob_xgb_tuned))\n",
    "\n",
    "\n",
    "\n",
    "dt_param_grid = {\n",
    "    \"max_depth\": [None, 5, 10],\n",
    "    \"min_samples_split\": [2, 5, 10],\n",
    "    \"min_samples_leaf\": [1, 2, 4]\n",
    "}\n",
    "\n",
    "dt_search = GridSearchCV(\n",
    "    estimator=DecisionTreeClassifier(random_state=42),\n",
    "    param_grid=dt_param_grid,\n",
    "    scoring=scoring,\n",
    "    cv=cv,\n",
    "    n_jobs=-1,\n",
    "    verbose=1\n",
    ")\n",
    "\n",
    "dt_search.fit(X_train_resampled, y_train_resampled)\n",
    "best_dt = dt_search.best_estimator_\n",
    "print(\"Decision Tree best params:\", dt_search.best_params_)\n",
    "print(\"Decision Tree CV ROC-AUC:\", dt_search.best_score_)\n",
    "\n",
    "y_prob_dt_tuned = best_dt.predict_proba(X_test)[:, 1]\n",
    "y_pred_dt_tuned = best_dt.predict(X_test)\n",
    "print(\"Decision Tree (tuned) ROC-AUC:\", roc_auc_score(y_test, y_prob_dt_tuned))\n",
    "\n",
    "log_param_grid = {\n",
    "    \"C\": [0.01, 0.1, 1, 10],\n",
    "    \"penalty\": [\"l2\"],\n",
    "    \"solver\": [\"liblinear\"]\n",
    "}\n",
    "\n",
    "log_search = GridSearchCV(\n",
    "    estimator=LogisticRegression(max_iter=2000, random_state=42),\n",
    "    param_grid=log_param_grid,\n",
    "    scoring=scoring,\n",
    "    cv=cv,\n",
    "    n_jobs=-1,\n",
    "    verbose=1\n",
    ")\n",
    "log_search.fit(X_train_resampled, y_train_resampled)\n",
    "best_log = log_search.best_estimator_\n",
    "print(\"Logistic Regression best params:\", log_search.best_params_)\n",
    "print(\"Logistic Regression CV ROC-AUC:\", log_search.best_score_)\n",
    "\n",
    "y_prob_log_tuned = best_log.predict_proba(X_test)[:, 1]\n",
    "y_pred_log_tuned = best_log.predict(X_test)\n",
    "print(\"Logistic Regression (tuned) ROC-AUC:\", roc_auc_score(y_test, y_prob_log_tuned))\n",
    "\n",
    "\n",
    "tuned_comparison = pd.DataFrame([\n",
    "    {\"Model\": \"Random Forest (tuned)\", \"ROC-AUC\": roc_auc_score(y_test, y_prob_rf_tuned)},\n",
    "    {\"Model\": \"XGBoost (tuned)\", \"ROC-AUC\": roc_auc_score(y_test, y_prob_xgb_tuned)},\n",
    "    {\"Model\": \"Decision Tree (tuned)\", \"ROC-AUC\": roc_auc_score(y_test, y_prob_dt_tuned)},\n",
    "    {\"Model\": \"Logistic Regression (tuned)\", \"ROC-AUC\": roc_auc_score(y_test, y_prob_log_tuned)}\n",
    "]).sort_values(by=\"ROC-AUC\", ascending=False).round(3)\n",
    "\n",
    "print(\"\\\\nTuned Model Performance (Test ROC-AUC):\")\n",
    "print(tuned_comparison)\n",
    "\n"
   ]
  },
  {
   "cell_type": "markdown",
   "id": "6f6932e1",
   "metadata": {},
   "source": [
    "# =============================================================\n",
    "# MODEL COMPARISON\n",
    "# ============================================================="
   ]
  },
  {
   "cell_type": "code",
   "execution_count": null,
   "id": "ee3c6849",
   "metadata": {},
   "outputs": [
    {
     "name": "stdout",
     "output_type": "stream",
     "text": [
      "\n",
      "Model Performance Comparison:\n",
      "                 Model  Accuracy  Precision  Recall  F1-score  ROC-AUC\n",
      "2        Random Forest     0.960      0.917   0.794     0.851    0.937\n",
      "3              XGBoost     0.978      0.956   0.887     0.920    0.934\n",
      "1        Decision Tree     0.937      0.739   0.876     0.802    0.912\n",
      "0  Logistic Regression     0.861      0.530   0.361     0.429    0.877\n"
     ]
    }
   ],
   "source": [
    "comparison = pd.DataFrame([\n",
    "    {\n",
    "        \"Model\": \"Logistic Regression\",\n",
    "        \"Accuracy\": accuracy_score(y_test, y_pred),\n",
    "        \"Precision\": precision_score(y_test, y_pred),\n",
    "        \"Recall\": recall_score(y_test, y_pred),\n",
    "        \"F1-score\": f1_score(y_test, y_pred),\n",
    "        \"ROC-AUC\": roc_auc_score(y_test, y_pred_prob)\n",
    "    },\n",
    "    {\n",
    "        \"Model\": \"Decision Tree\",\n",
    "        \"Accuracy\": accuracy_score(y_test, y_pred_dt),\n",
    "        \"Precision\": precision_score(y_test, y_pred_dt),\n",
    "        \"Recall\": recall_score(y_test, y_pred_dt),\n",
    "        \"F1-score\": f1_score(y_test, y_pred_dt),\n",
    "        \"ROC-AUC\": roc_auc_score(y_test, y_prob_dt)\n",
    "    },\n",
    "    {\n",
    "        \"Model\": \"Random Forest\",\n",
    "        \"Accuracy\": accuracy_score(y_test, y_pred_rf),\n",
    "        \"Precision\": precision_score(y_test, y_pred_rf),\n",
    "        \"Recall\": recall_score(y_test, y_pred_rf),\n",
    "        \"F1-score\": f1_score(y_test, y_pred_rf),\n",
    "        \"ROC-AUC\": roc_auc_score(y_test, y_prob_rf)\n",
    "    },\n",
    "    {\n",
    "        \"Model\": \"XGBoost\",\n",
    "        \"Accuracy\": accuracy_score(y_test, y_pred_xgb),\n",
    "        \"Precision\": precision_score(y_test, y_pred_xgb),\n",
    "        \"Recall\": recall_score(y_test, y_pred_xgb),\n",
    "        \"F1-score\": f1_score(y_test, y_pred_xgb),\n",
    "        \"ROC-AUC\": roc_auc_score(y_test, y_prob_xgb)\n",
    "    }\n",
    "])\n",
    "\n",
    "print(\"\\nModel Performance Comparison:\")\n",
    "print(comparison.sort_values(by=\"ROC-AUC\", ascending=False).round(3))"
   ]
  }
 ],
 "metadata": {
  "kernelspec": {
   "display_name": "base",
   "language": "python",
   "name": "python3"
  },
  "language_info": {
   "codemirror_mode": {
    "name": "ipython",
    "version": 3
   },
   "file_extension": ".py",
   "mimetype": "text/x-python",
   "name": "python",
   "nbconvert_exporter": "python",
   "pygments_lexer": "ipython3",
   "version": "3.12.4"
  }
 },
 "nbformat": 4,
 "nbformat_minor": 5
}
