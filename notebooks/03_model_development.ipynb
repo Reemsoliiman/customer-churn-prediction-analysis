{
 "cells": [
  {
   "cell_type": "markdown",
   "id": "ec5b0fbf",
   "metadata": {},
   "source": [
    "# =============================================================\n",
    "# MILESTONE 3: Machine Learning Model Development and Optimization\n",
    "# ============================================================="
   ]
  },
  {
   "cell_type": "code",
   "execution_count": 4,
   "id": "930410f0",
   "metadata": {},
   "outputs": [],
   "source": [
    "from sklearn.model_selection import train_test_split\n",
    "from imblearn.over_sampling import SMOTE\n",
    "import numpy as np\n",
    "import pandas as pd"
   ]
  },
  {
   "cell_type": "code",
   "execution_count": 5,
   "id": "b3a00f4a",
   "metadata": {},
   "outputs": [],
   "source": [
    "path=r\"C:\\Users\\starr\\customer-churn-prediction-analysis\\data\\processed\\cleaned_data.csv\"\n",
    "df = pd.read_csv(path) "
   ]
  },
  {
   "cell_type": "markdown",
   "id": "2fed0c5e",
   "metadata": {},
   "source": [
    "# Features (X) and Target (y)"
   ]
  },
  {
   "cell_type": "code",
   "execution_count": 6,
   "id": "bac3ee2f",
   "metadata": {},
   "outputs": [],
   "source": [
    "X = df.drop(\"Churn\", axis=1)\n",
    "y = df[\"Churn\"]"
   ]
  },
  {
   "cell_type": "markdown",
   "id": "b0cbd4a0",
   "metadata": {},
   "source": [
    "# Train/test split (80/20) with stratification"
   ]
  },
  {
   "cell_type": "code",
   "execution_count": 7,
   "id": "29194c7b",
   "metadata": {},
   "outputs": [
    {
     "name": "stdout",
     "output_type": "stream",
     "text": [
      "Before SMOTE: [1822  310]\n"
     ]
    }
   ],
   "source": [
    "X_train, X_test, y_train, y_test = train_test_split(\n",
    "    X, y, test_size=0.2, random_state=42, stratify=y\n",
    ")\n",
    "\n",
    "print(\"Before SMOTE:\", np.bincount(y_train))"
   ]
  },
  {
   "cell_type": "markdown",
   "id": "113ade79",
   "metadata": {},
   "source": [
    "\n",
    "# Apply SMOTE only to training set"
   ]
  },
  {
   "cell_type": "code",
   "execution_count": 8,
   "id": "d011e18c",
   "metadata": {},
   "outputs": [
    {
     "name": "stdout",
     "output_type": "stream",
     "text": [
      "After SMOTE: [1822 1822]\n"
     ]
    }
   ],
   "source": [
    "smote = SMOTE(random_state=42)\n",
    "X_train_resampled, y_train_resampled = smote.fit_resample(X_train, y_train)\n",
    "\n",
    "print(\"After SMOTE:\", np.bincount(y_train_resampled))"
   ]
  }
 ],
 "metadata": {
  "kernelspec": {
   "display_name": "Python 3",
   "language": "python",
   "name": "python3"
  },
  "language_info": {
   "codemirror_mode": {
    "name": "ipython",
    "version": 3
   },
   "file_extension": ".py",
   "mimetype": "text/x-python",
   "name": "python",
   "nbconvert_exporter": "python",
   "pygments_lexer": "ipython3",
   "version": "3.13.7"
  }
 },
 "nbformat": 4,
 "nbformat_minor": 5
}
