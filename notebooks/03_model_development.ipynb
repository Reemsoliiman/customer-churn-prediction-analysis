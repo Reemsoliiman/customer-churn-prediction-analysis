{
 "cells": [
  {
   "cell_type": "markdown",
   "id": "ec5b0fbf",
   "metadata": {},
   "source": [
    "# =============================================================\n",
    "# MILESTONE 3: Machine Learning Model Development and Optimization\n",
    "# ============================================================="
   ]
  },
  {
   "cell_type": "code",
   "execution_count": 1,
   "id": "930410f0",
   "metadata": {},
   "outputs": [],
   "source": [
    "from sklearn.model_selection import train_test_split\n",
    "from imblearn.over_sampling import SMOTE\n",
    "import numpy as np\n",
    "import pandas as pd\n",
    "from sklearn.linear_model import LogisticRegression\n",
    "from sklearn.tree import DecisionTreeClassifier\n",
    "from sklearn.ensemble import RandomForestClassifier\n",
    "from xgboost import XGBClassifier\n",
    "from sklearn.metrics import accuracy_score, precision_score, recall_score, f1_score, roc_auc_score, confusion_matrix, classification_report, roc_curve\n",
    "import matplotlib.pyplot as plt\n",
    "import seaborn as sns"
   ]
  },
  {
   "cell_type": "code",
   "execution_count": 2,
   "id": "b3a00f4a",
   "metadata": {},
   "outputs": [
    {
     "data": {
      "text/plain": [
       "(3333, 86)"
      ]
     },
     "execution_count": 2,
     "metadata": {},
     "output_type": "execute_result"
    }
   ],
   "source": [
    "url = \"https://raw.githubusercontent.com/Reemsoliiman/customer-churn-prediction-analysis/main/data/processed/cleaned_data.csv\"\n",
    "df = pd.read_csv(url)\n",
    "\n",
    "df.shape"
   ]
  },
  {
   "cell_type": "markdown",
   "id": "2fed0c5e",
   "metadata": {},
   "source": [
    "# Features (X) and Target (y)"
   ]
  },
  {
   "cell_type": "code",
   "execution_count": 3,
   "id": "bac3ee2f",
   "metadata": {},
   "outputs": [],
   "source": [
    "X = df.drop(\"Churn\", axis=1)\n",
    "y = df[\"Churn\"]"
   ]
  },
  {
   "cell_type": "markdown",
   "id": "b0cbd4a0",
   "metadata": {},
   "source": [
    "# Train/test split (80/20) with stratification"
   ]
  },
  {
   "cell_type": "code",
   "execution_count": 4,
   "id": "29194c7b",
   "metadata": {},
   "outputs": [
    {
     "name": "stdout",
     "output_type": "stream",
     "text": [
      "Before SMOTE: [2280  386]\n"
     ]
    }
   ],
   "source": [
    "X_train, X_test, y_train, y_test = train_test_split(\n",
    "    X, y, test_size=0.2, random_state=42, stratify=y\n",
    ")\n",
    "\n",
    "print(\"Before SMOTE:\", np.bincount(y_train))"
   ]
  },
  {
   "cell_type": "markdown",
   "id": "113ade79",
   "metadata": {},
   "source": [
    "\n",
    "# Apply SMOTE only to training set"
   ]
  },
  {
   "cell_type": "code",
   "execution_count": 5,
   "id": "d011e18c",
   "metadata": {},
   "outputs": [
    {
     "name": "stdout",
     "output_type": "stream",
     "text": [
      "After SMOTE: [2280 2280]\n"
     ]
    }
   ],
   "source": [
    "smote = SMOTE(random_state=42)\n",
    "X_train_resampled, y_train_resampled = smote.fit_resample(X_train, y_train)\n",
    "\n",
    "print(\"After SMOTE:\", np.bincount(y_train_resampled))"
   ]
  },
  {
   "cell_type": "markdown",
   "id": "be163b0c",
   "metadata": {},
   "source": [
    "# =============================================================\n",
    "# LogisticRegression Model\n",
    "# ============================================================="
   ]
  },
  {
   "cell_type": "code",
   "execution_count": 6,
   "id": "749d8f5b",
   "metadata": {},
   "outputs": [
    {
     "name": "stdout",
     "output_type": "stream",
     "text": [
      "Logistic Regression Evaluation:\n",
      "Accuracy : 0.8650674662668666\n",
      "Precision: 0.5466666666666666\n",
      "Recall   : 0.422680412371134\n",
      "F1-score : 0.47674418604651164\n",
      "ROC-AUC  : 0.8526677518538615\n",
      "\n",
      " Classification Report:\n",
      "               precision    recall  f1-score   support\n",
      "\n",
      "           0       0.91      0.94      0.92       570\n",
      "           1       0.55      0.42      0.48        97\n",
      "\n",
      "    accuracy                           0.87       667\n",
      "   macro avg       0.73      0.68      0.70       667\n",
      "weighted avg       0.85      0.87      0.86       667\n",
      "\n",
      "\n",
      "Confusion Matrix:\n",
      " [[536  34]\n",
      " [ 56  41]]\n"
     ]
    },
    {
     "data": {
      "image/png": "[encoded data removed]",
      "text/plain": [
       "<Figure size 600x400 with 2 Axes>"
      ]
     },
     "metadata": {},
     "output_type": "display_data"
    }
   ],
   "source": [
    "log_reg = LogisticRegression(max_iter=1000, solver=\"liblinear\")\n",
    "log_reg.fit(X_train_resampled, y_train_resampled)\n",
    "\n",
    "y_pred = log_reg.predict(X_test)\n",
    "y_pred_prob = log_reg.predict_proba(X_test)[:, 1]\n",
    "\n",
    "# Evaluate Logistic Regression\n",
    "print(\"Logistic Regression Evaluation:\")\n",
    "print(\"Accuracy :\", accuracy_score(y_test, y_pred))\n",
    "print(\"Precision:\", precision_score(y_test, y_pred))\n",
    "print(\"Recall   :\", recall_score(y_test, y_pred))\n",
    "print(\"F1-score :\", f1_score(y_test, y_pred))\n",
    "print(\"ROC-AUC  :\", roc_auc_score(y_test, y_pred_prob))\n",
    "print(\"\\n Classification Report:\\n\", classification_report(y_test, y_pred))\n",
    "print(\"\\nConfusion Matrix:\\n\", confusion_matrix(y_test, y_pred))\n",
    "\n",
    "# Plot Confusion Matrix for Logistic Regression\n",
    "cm = confusion_matrix(y_test, y_pred)\n",
    "plt.figure(figsize=(6, 4))\n",
    "sns.heatmap(cm, annot=True, fmt=\"d\", cmap=\"Blues\")\n",
    "plt.title(\"Confusion Matrix - Logistic Regression\")\n",
    "plt.xlabel(\"Predicted Labels\")\n",
    "plt.ylabel(\"True Labels\")\n",
    "plt.show()"
   ]
  },
  {
   "cell_type": "markdown",
   "id": "b73d531a",
   "metadata": {},
   "source": [
    "# =============================================================\n",
    "# DECISION TREE MODEL\n",
    "# ============================================================="
   ]
  },
  {
   "cell_type": "code",
   "execution_count": 7,
   "id": "e1d868cf",
   "metadata": {},
   "outputs": [
    {
     "name": "stdout",
     "output_type": "stream",
     "text": [
      "Decision Tree Evaluation:\n",
      "Accuracy : 0.9055472263868066\n",
      "Precision: 0.625\n",
      "Recall   : 0.8762886597938144\n",
      "F1-score : 0.7296137339055794\n",
      "ROC-AUC  : 0.893407487791644\n"
     ]
    }
   ],
   "source": [
    "dt_model = DecisionTreeClassifier(random_state=42)\n",
    "dt_model.fit(X_train_resampled, y_train_resampled)\n",
    "\n",
    "y_pred_dt = dt_model.predict(X_test)\n",
    "y_prob_dt = dt_model.predict_proba(X_test)[:, 1]\n",
    "\n",
    "print(\"Decision Tree Evaluation:\")\n",
    "print(\"Accuracy :\", accuracy_score(y_test, y_pred_dt))\n",
    "print(\"Precision:\", precision_score(y_test, y_pred_dt))\n",
    "print(\"Recall   :\", recall_score(y_test, y_pred_dt))\n",
    "print(\"F1-score :\", f1_score(y_test, y_pred_dt))\n",
    "print(\"ROC-AUC  :\", roc_auc_score(y_test, y_prob_dt))"
   ]
  },
  {
   "cell_type": "markdown",
   "id": "d4eb5d1e",
   "metadata": {},
   "source": [
    "# =============================================================\n",
    "# RANDOM FOREST MODEL\n",
    "# ============================================================="
   ]
  },
  {
   "cell_type": "code",
   "execution_count": 8,
   "id": "23d4f85d",
   "metadata": {},
   "outputs": [
    {
     "name": "stdout",
     "output_type": "stream",
     "text": [
      "Random Forest Evaluation:\n",
      "Accuracy : 0.95952023988006\n",
      "Precision: 0.8723404255319149\n",
      "Recall   : 0.845360824742268\n",
      "F1-score : 0.8586387434554974\n",
      "ROC-AUC  : 0.9275456682944474\n"
     ]
    }
   ],
   "source": [
    "rf_model = RandomForestClassifier(n_estimators=100, random_state=42)\n",
    "rf_model.fit(X_train_resampled, y_train_resampled)\n",
    "\n",
    "y_pred_rf = rf_model.predict(X_test)\n",
    "y_prob_rf = rf_model.predict_proba(X_test)[:, 1]\n",
    "\n",
    "print(\"Random Forest Evaluation:\")\n",
    "print(\"Accuracy :\", accuracy_score(y_test, y_pred_rf))\n",
    "print(\"Precision:\", precision_score(y_test, y_pred_rf))\n",
    "print(\"Recall   :\", recall_score(y_test, y_pred_rf))\n",
    "print(\"F1-score :\", f1_score(y_test, y_pred_rf))\n",
    "print(\"ROC-AUC  :\", roc_auc_score(y_test, y_prob_rf))"
   ]
  },
  {
   "cell_type": "markdown",
   "id": "8f345335",
   "metadata": {},
   "source": [
    "# =============================================================\n",
    "# XGBOOST MODEL\n",
    "# ============================================================="
   ]
  },
  {
   "cell_type": "code",
   "execution_count": 9,
   "id": "0c2310f9",
   "metadata": {},
   "outputs": [
    {
     "name": "stderr",
     "output_type": "stream",
     "text": [
      "d:\\Users\\LENOVO\\anaconda3\\Lib\\site-packages\\xgboost\\training.py:183: UserWarning: [17:14:04] WARNING: C:\\actions-runner\\_work\\xgboost\\xgboost\\src\\learner.cc:738: \n",
      "Parameters: { \"use_label_encoder\" } are not used.\n",
      "\n",
      "  bst.update(dtrain, iteration=i, fobj=obj)\n"
     ]
    },
    {
     "name": "stdout",
     "output_type": "stream",
     "text": [
      "XGBoost Evaluation:\n",
      "Accuracy : 0.9715142428785607\n",
      "Precision: 0.9148936170212766\n",
      "Recall   : 0.8865979381443299\n",
      "F1-score : 0.900523560209424\n",
      "ROC-AUC  : 0.93049376017363\n"
     ]
    }
   ],
   "source": [
    "xgb_model = XGBClassifier(eval_metric='logloss', use_label_encoder=False, random_state=42)\n",
    "xgb_model.fit(X_train_resampled, y_train_resampled)\n",
    "\n",
    "y_pred_xgb = xgb_model.predict(X_test)\n",
    "y_prob_xgb = xgb_model.predict_proba(X_test)[:, 1]\n",
    "\n",
    "print(\"XGBoost Evaluation:\")\n",
    "print(\"Accuracy :\", accuracy_score(y_test, y_pred_xgb))\n",
    "print(\"Precision:\", precision_score(y_test, y_pred_xgb))\n",
    "print(\"Recall   :\", recall_score(y_test, y_pred_xgb))\n",
    "print(\"F1-score :\", f1_score(y_test, y_pred_xgb))\n",
    "print(\"ROC-AUC  :\", roc_auc_score(y_test, y_prob_xgb))"
   ]
  },
  {
   "cell_type": "markdown",
   "id": "6f6932e1",
   "metadata": {},
   "source": [
    "# =============================================================\n",
    "# MODEL COMPARISON\n",
    "# ============================================================="
   ]
  },
  {
   "cell_type": "code",
   "execution_count": 10,
   "id": "ee3c6849",
   "metadata": {},
   "outputs": [
    {
     "name": "stdout",
     "output_type": "stream",
     "text": [
      "\n",
      "Model Performance Comparison:\n",
      "                 Model  Accuracy  Precision  Recall  F1-score  ROC-AUC\n",
      "3              XGBoost     0.972      0.915   0.887     0.901    0.930\n",
      "2        Random Forest     0.960      0.872   0.845     0.859    0.928\n",
      "1        Decision Tree     0.906      0.625   0.876     0.730    0.893\n",
      "0  Logistic Regression     0.865      0.547   0.423     0.477    0.853\n"
     ]
    }
   ],
   "source": [
    "comparison = pd.DataFrame([\n",
    "    {\n",
    "        \"Model\": \"Logistic Regression\",\n",
    "        \"Accuracy\": accuracy_score(y_test, y_pred),\n",
    "        \"Precision\": precision_score(y_test, y_pred),\n",
    "        \"Recall\": recall_score(y_test, y_pred),\n",
    "        \"F1-score\": f1_score(y_test, y_pred),\n",
    "        \"ROC-AUC\": roc_auc_score(y_test, y_pred_prob)\n",
    "    },\n",
    "    {\n",
    "        \"Model\": \"Decision Tree\",\n",
    "        \"Accuracy\": accuracy_score(y_test, y_pred_dt),\n",
    "        \"Precision\": precision_score(y_test, y_pred_dt),\n",
    "        \"Recall\": recall_score(y_test, y_pred_dt),\n",
    "        \"F1-score\": f1_score(y_test, y_pred_dt),\n",
    "        \"ROC-AUC\": roc_auc_score(y_test, y_prob_dt)\n",
    "    },\n",
    "    {\n",
    "        \"Model\": \"Random Forest\",\n",
    "        \"Accuracy\": accuracy_score(y_test, y_pred_rf),\n",
    "        \"Precision\": precision_score(y_test, y_pred_rf),\n",
    "        \"Recall\": recall_score(y_test, y_pred_rf),\n",
    "        \"F1-score\": f1_score(y_test, y_pred_rf),\n",
    "        \"ROC-AUC\": roc_auc_score(y_test, y_prob_rf)\n",
    "    },\n",
    "    {\n",
    "        \"Model\": \"XGBoost\",\n",
    "        \"Accuracy\": accuracy_score(y_test, y_pred_xgb),\n",
    "        \"Precision\": precision_score(y_test, y_pred_xgb),\n",
    "        \"Recall\": recall_score(y_test, y_pred_xgb),\n",
    "        \"F1-score\": f1_score(y_test, y_pred_xgb),\n",
    "        \"ROC-AUC\": roc_auc_score(y_test, y_prob_xgb)\n",
    "    }\n",
    "])\n",
    "\n",
    "print(\"\\nModel Performance Comparison:\")\n",
    "print(comparison.sort_values(by=\"ROC-AUC\", ascending=False).round(3))"
   ]
  }
 ],
 "metadata": {
  "kernelspec": {
   "display_name": "base",
   "language": "python",
   "name": "python3"
  },
  "language_info": {
   "codemirror_mode": {
    "name": "ipython",
    "version": 3
   },
   "file_extension": ".py",
   "mimetype": "text/x-python",
   "name": "python",
   "nbconvert_exporter": "python",
   "pygments_lexer": "ipython3",
   "version": "3.13.5"
  }
 },
 "nbformat": 4,
 "nbformat_minor": 5
}
